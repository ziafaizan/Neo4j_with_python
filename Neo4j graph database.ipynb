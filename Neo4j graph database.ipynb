{
 "cells": [
  {
   "cell_type": "code",
   "execution_count": 1,
   "id": "b82d06a3",
   "metadata": {},
   "outputs": [],
   "source": [
    "# pip install neo4j-driver"
   ]
  },
  {
   "cell_type": "markdown",
   "id": "4e9aea7c",
   "metadata": {},
   "source": [
    "### connecting neo4j with python"
   ]
  },
  {
   "cell_type": "code",
   "execution_count": 1,
   "id": "d4e27775",
   "metadata": {},
   "outputs": [],
   "source": [
    "from neo4j import GraphDatabase, basic_auth\n",
    "\n",
    "driver = GraphDatabase.driver(\n",
    "  \"bolt://3.84.221.62:7687\",\n",
    "  auth=basic_auth(\"neo4j\", \"insertion-patch-drains\"))\n",
    "session=driver.session()\n",
    "\n",
    "# Print all the records avaliable\n",
    "\n",
    "cypher_query = '''MATCH(N) RETURN N LIMIT 10'''\n",
    "\n",
    "result=session.run(cypher_query)\n",
    "for i in result:\n",
    "    print(i)\n",
    "driver.close()\n"
   ]
  },
  {
   "cell_type": "markdown",
   "id": "f3bff4a4",
   "metadata": {},
   "source": [
    "### printing all the person name with year of born"
   ]
  },
  {
   "cell_type": "code",
   "execution_count": 2,
   "id": "ebb96d9f",
   "metadata": {},
   "outputs": [],
   "source": [
    "cypher_query = '''MATCH (p:Person) return p.name, p.born'''\n",
    "\n",
    "result=session.run(cypher_query)\n",
    "for i in result:\n",
    "    print(i)\n",
    "driver.close()\n"
   ]
  },
  {
   "cell_type": "markdown",
   "id": "b4e2a3c5",
   "metadata": {},
   "source": [
    "### Find record accoding to person name"
   ]
  },
  {
   "cell_type": "code",
   "execution_count": 3,
   "id": "685354d3",
   "metadata": {},
   "outputs": [],
   "source": [
    "def find_name(name):\n",
    "    cypher_query = \"MATCH (p:Person) where p.name = '\"+name+\"' RETURN p\"\n",
    "    result=session.run(cypher_query)\n",
    "    for i in result:\n",
    "        print(i)\n",
    "    driver.close()\n",
    "find_name(\"Julia Roberts\")"
   ]
  },
  {
   "cell_type": "markdown",
   "id": "395cc136",
   "metadata": {},
   "source": [
    "### Find all the movie according to year"
   ]
  },
  {
   "cell_type": "code",
   "execution_count": 4,
   "id": "95610e2b",
   "metadata": {},
   "outputs": [],
   "source": [
    "def movie_released_year(year):\n",
    "    cypher_query = \"MATCH (m:Movie) where m.released =\"+str(year)+\" RETURN m.title,m.released\"\n",
    "    result=session.run(cypher_query)\n",
    "    for i in result:\n",
    "        print(i)\n",
    "    driver.close()\n",
    "movie_released_year(2003)"
   ]
  },
  {
   "cell_type": "markdown",
   "id": "255cf9b7",
   "metadata": {},
   "source": [
    "### Find all the cast of the movie"
   ]
  },
  {
   "cell_type": "code",
   "execution_count": 5,
   "id": "1b79a4db",
   "metadata": {},
   "outputs": [],
   "source": [
    "def cast_name(movie_name):\n",
    "    cypher_query = \"MATCH (n:Movie)-[:ACTED_IN]-(p:Person) where n.title = '\"+movie_name+\"' return n.title,p.name\"\n",
    "    result=session.run(cypher_query)\n",
    "    for i in result:\n",
    "        print(i)\n",
    "    driver.close()\n",
    "cast_name(\"The Matrix\")"
   ]
  },
  {
   "cell_type": "markdown",
   "id": "b179fd2c",
   "metadata": {},
   "source": [
    "### Find the movie name according to director\n"
   ]
  },
  {
   "cell_type": "code",
   "execution_count": 6,
   "id": "bb9bb758",
   "metadata": {},
   "outputs": [],
   "source": [
    "cypher_query = '''MATCH (p:Person)-[d:DIRECTED]-(m:Movie) RETURN p.name,m.title'''\n",
    "\n",
    "result=session.run(cypher_query)\n",
    "for i in result:\n",
    "    print(i)\n",
    "driver.close()\n",
    "\n"
   ]
  },
  {
   "cell_type": "code",
   "execution_count": null,
   "id": "d8d25b1b",
   "metadata": {},
   "outputs": [],
   "source": []
  }
 ],
 "metadata": {
  "kernelspec": {
   "display_name": "Python 3 (ipykernel)",
   "language": "python",
   "name": "python3"
  },
  "language_info": {
   "codemirror_mode": {
    "name": "ipython",
    "version": 3
   },
   "file_extension": ".py",
   "mimetype": "text/x-python",
   "name": "python",
   "nbconvert_exporter": "python",
   "pygments_lexer": "ipython3",
   "version": "3.9.12"
  }
 },
 "nbformat": 4,
 "nbformat_minor": 5
}
