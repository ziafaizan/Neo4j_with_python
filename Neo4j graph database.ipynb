{
 "cells": [
  {
   "cell_type": "code",
   "execution_count": 1,
   "id": "b82d06a3",
   "metadata": {},
   "outputs": [],
   "source": [
    "# pip install neo4j-driver"
   ]
  },
  {
   "cell_type": "markdown",
   "id": "4e9aea7c",
   "metadata": {},
   "source": [
    "### connecting neo4j with python"
   ]
  },
  {
   "cell_type": "code",
   "execution_count": 1,
   "id": "d4e27775",
   "metadata": {},
   "outputs": [
    {
     "name": "stdout",
     "output_type": "stream",
     "text": [
      "<Record N=<Node element_id='0' labels=frozenset({'Movie'}) properties={'tagline': 'Welcome to the Real World', 'title': 'The Matrix', 'released': 1999}>>\n",
      "<Record N=<Node element_id='1' labels=frozenset({'Person'}) properties={'born': 1964, 'name': 'Keanu Reeves'}>>\n",
      "<Record N=<Node element_id='2' labels=frozenset({'Person'}) properties={'born': 1967, 'name': 'Carrie-Anne Moss'}>>\n",
      "<Record N=<Node element_id='3' labels=frozenset({'Person'}) properties={'born': 1961, 'name': 'Laurence Fishburne'}>>\n",
      "<Record N=<Node element_id='4' labels=frozenset({'Person'}) properties={'born': 1960, 'name': 'Hugo Weaving'}>>\n",
      "<Record N=<Node element_id='5' labels=frozenset({'Person'}) properties={'born': 1967, 'name': 'Lilly Wachowski'}>>\n",
      "<Record N=<Node element_id='6' labels=frozenset({'Person'}) properties={'born': 1965, 'name': 'Lana Wachowski'}>>\n",
      "<Record N=<Node element_id='7' labels=frozenset({'Person'}) properties={'born': 1952, 'name': 'Joel Silver'}>>\n",
      "<Record N=<Node element_id='8' labels=frozenset({'Person'}) properties={'born': 1978, 'name': 'Emil Eifrem'}>>\n",
      "<Record N=<Node element_id='9' labels=frozenset({'Movie'}) properties={'tagline': 'Free your mind', 'title': 'The Matrix Reloaded', 'released': 2003}>>\n"
     ]
    }
   ],
   "source": [
    "from neo4j import GraphDatabase, basic_auth\n",
    "\n",
    "driver = GraphDatabase.driver(\n",
    "  \"bolt://3.84.221.62:7687\",\n",
    "  auth=basic_auth(\"neo4j\", \"insertion-patch-drains\"))\n",
    "session=driver.session()\n",
    "\n",
    "# Print all the records avaliable\n",
    "\n",
    "cypher_query = '''MATCH(N) RETURN N LIMIT 10'''\n",
    "\n",
    "result=session.run(cypher_query)\n",
    "for i in result:\n",
    "    print(i)\n",
    "driver.close()\n"
   ]
  },
  {
   "cell_type": "markdown",
   "id": "f3bff4a4",
   "metadata": {},
   "source": [
    "### printing all the person name with year of born"
   ]
  },
  {
   "cell_type": "code",
   "execution_count": 78,
   "id": "ebb96d9f",
   "metadata": {},
   "outputs": [
    {
     "name": "stdout",
     "output_type": "stream",
     "text": [
      "<Record p.name='Keanu Reeves' p.born=1964>\n",
      "<Record p.name='Carrie-Anne Moss' p.born=1967>\n",
      "<Record p.name='Laurence Fishburne' p.born=1961>\n",
      "<Record p.name='Hugo Weaving' p.born=1960>\n",
      "<Record p.name='Lilly Wachowski' p.born=1967>\n",
      "<Record p.name='Lana Wachowski' p.born=1965>\n",
      "<Record p.name='Joel Silver' p.born=1952>\n",
      "<Record p.name='Emil Eifrem' p.born=1978>\n",
      "<Record p.name='Charlize Theron' p.born=1975>\n",
      "<Record p.name='Al Pacino' p.born=1940>\n",
      "<Record p.name='Taylor Hackford' p.born=1944>\n",
      "<Record p.name='Tom Cruise' p.born=1962>\n",
      "<Record p.name='Jack Nicholson' p.born=1937>\n",
      "<Record p.name='Demi Moore' p.born=1962>\n",
      "<Record p.name='Kevin Bacon' p.born=1958>\n",
      "<Record p.name='Kiefer Sutherland' p.born=1966>\n",
      "<Record p.name='Noah Wyle' p.born=1971>\n",
      "<Record p.name='Cuba Gooding Jr.' p.born=1968>\n",
      "<Record p.name='Kevin Pollak' p.born=1957>\n",
      "<Record p.name='J.T. Walsh' p.born=1943>\n",
      "<Record p.name='James Marshall' p.born=1967>\n",
      "<Record p.name='Christopher Guest' p.born=1948>\n",
      "<Record p.name='Rob Reiner' p.born=1947>\n",
      "<Record p.name='Aaron Sorkin' p.born=1961>\n",
      "<Record p.name='Kelly McGillis' p.born=1957>\n",
      "<Record p.name='Val Kilmer' p.born=1959>\n",
      "<Record p.name='Anthony Edwards' p.born=1962>\n",
      "<Record p.name='Tom Skerritt' p.born=1933>\n",
      "<Record p.name='Meg Ryan' p.born=1961>\n",
      "<Record p.name='Tony Scott' p.born=1944>\n",
      "<Record p.name='Jim Cash' p.born=1941>\n",
      "<Record p.name='Renee Zellweger' p.born=1969>\n",
      "<Record p.name='Kelly Preston' p.born=1962>\n",
      "<Record p.name=\"Jerry O'Connell\" p.born=1974>\n",
      "<Record p.name='Jay Mohr' p.born=1970>\n",
      "<Record p.name='Bonnie Hunt' p.born=1961>\n",
      "<Record p.name='Regina King' p.born=1971>\n",
      "<Record p.name='Jonathan Lipnicki' p.born=1996>\n",
      "<Record p.name='Cameron Crowe' p.born=1957>\n",
      "<Record p.name='River Phoenix' p.born=1970>\n",
      "<Record p.name='Corey Feldman' p.born=1971>\n",
      "<Record p.name='Wil Wheaton' p.born=1972>\n",
      "<Record p.name='John Cusack' p.born=1966>\n",
      "<Record p.name='Marshall Bell' p.born=1942>\n",
      "<Record p.name='Helen Hunt' p.born=1963>\n",
      "<Record p.name='Greg Kinnear' p.born=1963>\n",
      "<Record p.name='James L. Brooks' p.born=1940>\n",
      "<Record p.name='Annabella Sciorra' p.born=1960>\n",
      "<Record p.name='Max von Sydow' p.born=1929>\n",
      "<Record p.name='Werner Herzog' p.born=1942>\n",
      "<Record p.name='Robin Williams' p.born=1951>\n",
      "<Record p.name='Vincent Ward' p.born=1956>\n",
      "<Record p.name='Ethan Hawke' p.born=1970>\n",
      "<Record p.name='Rick Yune' p.born=1971>\n",
      "<Record p.name='James Cromwell' p.born=1940>\n",
      "<Record p.name='Scott Hicks' p.born=1953>\n",
      "<Record p.name='Parker Posey' p.born=1968>\n",
      "<Record p.name='Dave Chappelle' p.born=1973>\n",
      "<Record p.name='Steve Zahn' p.born=1967>\n",
      "<Record p.name='Tom Hanks' p.born=1956>\n",
      "<Record p.name='Nora Ephron' p.born=1941>\n",
      "<Record p.name='Rita Wilson' p.born=1956>\n",
      "<Record p.name='Bill Pullman' p.born=1953>\n",
      "<Record p.name='Victor Garber' p.born=1949>\n",
      "<Record p.name=\"Rosie O'Donnell\" p.born=1962>\n",
      "<Record p.name='John Patrick Stanley' p.born=1950>\n",
      "<Record p.name='Nathan Lane' p.born=1956>\n",
      "<Record p.name='Billy Crystal' p.born=1948>\n",
      "<Record p.name='Carrie Fisher' p.born=1956>\n",
      "<Record p.name='Bruno Kirby' p.born=1949>\n",
      "<Record p.name='Liv Tyler' p.born=1977>\n",
      "<Record p.name='Brooke Langton' p.born=1970>\n",
      "<Record p.name='Gene Hackman' p.born=1930>\n",
      "<Record p.name='Orlando Jones' p.born=1968>\n",
      "<Record p.name='Howard Deutch' p.born=1950>\n",
      "<Record p.name='Christian Bale' p.born=1974>\n",
      "<Record p.name='Zach Grenier' p.born=1954>\n",
      "<Record p.name='Mike Nichols' p.born=1931>\n",
      "<Record p.name='Richard Harris' p.born=1930>\n",
      "<Record p.name='Clint Eastwood' p.born=1930>\n",
      "<Record p.name='Takeshi Kitano' p.born=1947>\n",
      "<Record p.name='Dina Meyer' p.born=1968>\n",
      "<Record p.name='Ice-T' p.born=1958>\n",
      "<Record p.name='Robert Longo' p.born=1953>\n",
      "<Record p.name='Halle Berry' p.born=1966>\n",
      "<Record p.name='Jim Broadbent' p.born=1949>\n",
      "<Record p.name='Tom Tykwer' p.born=1965>\n",
      "<Record p.name='David Mitchell' p.born=1969>\n",
      "<Record p.name='Stefan Arndt' p.born=1961>\n",
      "<Record p.name='Ian McKellen' p.born=1939>\n",
      "<Record p.name='Audrey Tautou' p.born=1976>\n",
      "<Record p.name='Paul Bettany' p.born=1971>\n",
      "<Record p.name='Ron Howard' p.born=1954>\n",
      "<Record p.name='Natalie Portman' p.born=1981>\n",
      "<Record p.name='Stephen Rea' p.born=1946>\n",
      "<Record p.name='John Hurt' p.born=1940>\n",
      "<Record p.name='Ben Miles' p.born=1967>\n",
      "<Record p.name='Emile Hirsch' p.born=1985>\n",
      "<Record p.name='John Goodman' p.born=1960>\n",
      "<Record p.name='Susan Sarandon' p.born=1946>\n",
      "<Record p.name='Matthew Fox' p.born=1966>\n",
      "<Record p.name='Christina Ricci' p.born=1980>\n",
      "<Record p.name='Rain' p.born=1982>\n",
      "<Record p.name='Naomie Harris' p.born=None>\n",
      "<Record p.name='Michael Clarke Duncan' p.born=1957>\n",
      "<Record p.name='David Morse' p.born=1953>\n",
      "<Record p.name='Sam Rockwell' p.born=1968>\n",
      "<Record p.name='Gary Sinise' p.born=1955>\n",
      "<Record p.name='Patricia Clarkson' p.born=1959>\n",
      "<Record p.name='Frank Darabont' p.born=1959>\n",
      "<Record p.name='Frank Langella' p.born=1938>\n",
      "<Record p.name='Michael Sheen' p.born=1969>\n",
      "<Record p.name='Oliver Platt' p.born=1960>\n",
      "<Record p.name='Danny DeVito' p.born=1944>\n",
      "<Record p.name='John C. Reilly' p.born=1965>\n",
      "<Record p.name='Ed Harris' p.born=1950>\n",
      "<Record p.name='Bill Paxton' p.born=1955>\n",
      "<Record p.name='Philip Seymour Hoffman' p.born=1967>\n",
      "<Record p.name='Jan de Bont' p.born=1943>\n",
      "<Record p.name='Robert Zemeckis' p.born=1951>\n",
      "<Record p.name='Milos Forman' p.born=1932>\n",
      "<Record p.name='Diane Keaton' p.born=1946>\n",
      "<Record p.name='Nancy Meyers' p.born=1949>\n",
      "<Record p.name='Chris Columbus' p.born=1958>\n",
      "<Record p.name='Julia Roberts' p.born=1967>\n",
      "<Record p.name='Madonna' p.born=1954>\n",
      "<Record p.name='Geena Davis' p.born=1956>\n",
      "<Record p.name='Lori Petty' p.born=1963>\n",
      "<Record p.name='Penny Marshall' p.born=1943>\n",
      "<Record p.name='Paul Blythe' p.born=None>\n",
      "<Record p.name='Angela Scope' p.born=None>\n",
      "<Record p.name='Jessica Thompson' p.born=None>\n",
      "<Record p.name='James Thompson' p.born=None>\n"
     ]
    }
   ],
   "source": [
    "cypher_query = '''MATCH (p:Person) return p.name, p.born'''\n",
    "\n",
    "result=session.run(cypher_query)\n",
    "for i in result:\n",
    "    print(i)\n",
    "driver.close()\n"
   ]
  },
  {
   "cell_type": "markdown",
   "id": "b4e2a3c5",
   "metadata": {},
   "source": [
    "### Find record accoding to person name"
   ]
  },
  {
   "cell_type": "code",
   "execution_count": 79,
   "id": "685354d3",
   "metadata": {},
   "outputs": [
    {
     "name": "stdout",
     "output_type": "stream",
     "text": [
      "<Record p=<Node element_id='160' labels=frozenset({'Person'}) properties={'born': 1967, 'name': 'Julia Roberts'}>>\n"
     ]
    }
   ],
   "source": [
    "def find_name(name):\n",
    "    cypher_query = \"MATCH (p:Person) where p.name = '\"+name+\"' RETURN p\"\n",
    "    result=session.run(cypher_query)\n",
    "    for i in result:\n",
    "        print(i)\n",
    "    driver.close()\n",
    "find_name(\"Julia Roberts\")"
   ]
  },
  {
   "cell_type": "markdown",
   "id": "395cc136",
   "metadata": {},
   "source": [
    "### Find all the movie according to year"
   ]
  },
  {
   "cell_type": "code",
   "execution_count": 80,
   "id": "95610e2b",
   "metadata": {},
   "outputs": [
    {
     "name": "stdout",
     "output_type": "stream",
     "text": [
      "<Record m.title='The Matrix Reloaded' m.released=2003>\n",
      "<Record m.title='The Matrix Revolutions' m.released=2003>\n",
      "<Record m.title=\"Something's Gotta Give\" m.released=2003>\n"
     ]
    }
   ],
   "source": [
    "def movie_released_year(year):\n",
    "    cypher_query = \"MATCH (m:Movie) where m.released =\"+str(year)+\" RETURN m.title,m.released\"\n",
    "    result=session.run(cypher_query)\n",
    "    for i in result:\n",
    "        print(i)\n",
    "    driver.close()\n",
    "movie_released_year(2003)"
   ]
  },
  {
   "cell_type": "markdown",
   "id": "255cf9b7",
   "metadata": {},
   "source": [
    "### Find all the cast of the movie"
   ]
  },
  {
   "cell_type": "code",
   "execution_count": 81,
   "id": "1b79a4db",
   "metadata": {},
   "outputs": [
    {
     "name": "stdout",
     "output_type": "stream",
     "text": [
      "<Record n.title='The Matrix' p.name='Emil Eifrem'>\n",
      "<Record n.title='The Matrix' p.name='Hugo Weaving'>\n",
      "<Record n.title='The Matrix' p.name='Laurence Fishburne'>\n",
      "<Record n.title='The Matrix' p.name='Carrie-Anne Moss'>\n",
      "<Record n.title='The Matrix' p.name='Keanu Reeves'>\n"
     ]
    }
   ],
   "source": [
    "def cast_name(movie_name):\n",
    "    cypher_query = \"MATCH (n:Movie)-[:ACTED_IN]-(p:Person) where n.title = '\"+movie_name+\"' return n.title,p.name\"\n",
    "    result=session.run(cypher_query)\n",
    "    for i in result:\n",
    "        print(i)\n",
    "    driver.close()\n",
    "cast_name(\"The Matrix\")"
   ]
  },
  {
   "cell_type": "markdown",
   "id": "b179fd2c",
   "metadata": {},
   "source": [
    "### Find the movie name according to director\n"
   ]
  },
  {
   "cell_type": "code",
   "execution_count": 84,
   "id": "bb9bb758",
   "metadata": {},
   "outputs": [
    {
     "name": "stdout",
     "output_type": "stream",
     "text": [
      "<Record p.name='Lana Wachowski' m.title='The Matrix'>\n",
      "<Record p.name='Lilly Wachowski' m.title='The Matrix'>\n",
      "<Record p.name='Lana Wachowski' m.title='The Matrix Reloaded'>\n",
      "<Record p.name='Lilly Wachowski' m.title='The Matrix Reloaded'>\n",
      "<Record p.name='Lana Wachowski' m.title='The Matrix Revolutions'>\n",
      "<Record p.name='Lilly Wachowski' m.title='The Matrix Revolutions'>\n",
      "<Record p.name='Taylor Hackford' m.title=\"The Devil's Advocate\">\n",
      "<Record p.name='Rob Reiner' m.title='A Few Good Men'>\n",
      "<Record p.name='Tony Scott' m.title='Top Gun'>\n",
      "<Record p.name='Cameron Crowe' m.title='Jerry Maguire'>\n",
      "<Record p.name='Rob Reiner' m.title='Stand By Me'>\n",
      "<Record p.name='James L. Brooks' m.title='As Good as It Gets'>\n",
      "<Record p.name='Vincent Ward' m.title='What Dreams May Come'>\n",
      "<Record p.name='Scott Hicks' m.title='Snow Falling on Cedars'>\n",
      "<Record p.name='Nora Ephron' m.title=\"You've Got Mail\">\n",
      "<Record p.name='Nora Ephron' m.title='Sleepless in Seattle'>\n",
      "<Record p.name='John Patrick Stanley' m.title='Joe Versus the Volcano'>\n",
      "<Record p.name='Rob Reiner' m.title='When Harry Met Sally'>\n",
      "<Record p.name='Tom Hanks' m.title='That Thing You Do'>\n",
      "<Record p.name='Howard Deutch' m.title='The Replacements'>\n",
      "<Record p.name='Werner Herzog' m.title='RescueDawn'>\n",
      "<Record p.name='Mike Nichols' m.title='The Birdcage'>\n",
      "<Record p.name='Clint Eastwood' m.title='Unforgiven'>\n",
      "<Record p.name='Robert Longo' m.title='Johnny Mnemonic'>\n",
      "<Record p.name='Tom Tykwer' m.title='Cloud Atlas'>\n",
      "<Record p.name='Lana Wachowski' m.title='Cloud Atlas'>\n",
      "<Record p.name='Lilly Wachowski' m.title='Cloud Atlas'>\n",
      "<Record p.name='Ron Howard' m.title='The Da Vinci Code'>\n",
      "<Record p.name='James Marshall' m.title='V for Vendetta'>\n",
      "<Record p.name='Lana Wachowski' m.title='Speed Racer'>\n",
      "<Record p.name='Lilly Wachowski' m.title='Speed Racer'>\n",
      "<Record p.name='James Marshall' m.title='Ninja Assassin'>\n",
      "<Record p.name='Frank Darabont' m.title='The Green Mile'>\n",
      "<Record p.name='Ron Howard' m.title='Frost/Nixon'>\n",
      "<Record p.name='Danny DeVito' m.title='Hoffa'>\n",
      "<Record p.name='Ron Howard' m.title='Apollo 13'>\n",
      "<Record p.name='Jan de Bont' m.title='Twister'>\n",
      "<Record p.name='Robert Zemeckis' m.title='Cast Away'>\n",
      "<Record p.name='Milos Forman' m.title=\"One Flew Over the Cuckoo's Nest\">\n",
      "<Record p.name='Nancy Meyers' m.title=\"Something's Gotta Give\">\n",
      "<Record p.name='Chris Columbus' m.title='Bicentennial Man'>\n",
      "<Record p.name='Mike Nichols' m.title=\"Charlie Wilson's War\">\n",
      "<Record p.name='Robert Zemeckis' m.title='The Polar Express'>\n",
      "<Record p.name='Penny Marshall' m.title='A League of Their Own'>\n"
     ]
    }
   ],
   "source": [
    "cypher_query = '''MATCH (p:Person)-[d:DIRECTED]-(m:Movie) RETURN p.name,m.title'''\n",
    "\n",
    "result=session.run(cypher_query)\n",
    "for i in result:\n",
    "    print(i)\n",
    "driver.close()\n",
    "\n"
   ]
  },
  {
   "cell_type": "code",
   "execution_count": null,
   "id": "d8d25b1b",
   "metadata": {},
   "outputs": [],
   "source": []
  }
 ],
 "metadata": {
  "kernelspec": {
   "display_name": "Python 3 (ipykernel)",
   "language": "python",
   "name": "python3"
  },
  "language_info": {
   "codemirror_mode": {
    "name": "ipython",
    "version": 3
   },
   "file_extension": ".py",
   "mimetype": "text/x-python",
   "name": "python",
   "nbconvert_exporter": "python",
   "pygments_lexer": "ipython3",
   "version": "3.9.12"
  }
 },
 "nbformat": 4,
 "nbformat_minor": 5
}
